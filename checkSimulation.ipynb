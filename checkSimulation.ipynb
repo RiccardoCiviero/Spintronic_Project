{
 "cells": [
  {
   "cell_type": "code",
   "execution_count": 1,
   "metadata": {},
   "outputs": [],
   "source": [
    "#don't touch this stuff, just setup and constants\n",
    "import oommfc as oc\n",
    "import discretisedfield as df\n",
    "import micromagneticmodel as mm\n",
    "import micromagneticdata as md\n",
    "import numpy as np\n",
    "import matplotlib.pyplot as plt\n",
    "import matplotlib.ticker as ticker\n",
    "import pandas as pd\n",
    "\n",
    "# Conversion factors\n",
    "Oe = 1000/(4*np.pi)     # conversion Oe->A/m 79.577471/ 1 mT->10 Oe\n",
    "\n",
    "# magnetic parametes\n",
    "alpha_YIG = 1.75e-4    # Gilbert damping (-)\n",
    "\n",
    "Ms_YIG = 140.7e3           # Saturation magnetisation (A/m). \n",
    "\n",
    "A_YIG = 4.22e-12           # Exchange stiffness (J/m)\n",
    "\n",
    "l_ex = (2*A_YIG/(mm.consts.mu0*Ms_YIG**2)) # Exchange length (m)\n",
    "# Geometry [m]\n",
    "l = 60e-6\n",
    "w = 500e-9\n",
    "t = 50e-9\n",
    "\n",
    "\n",
    "# self absorbing boundary condition\n",
    "band = 1e-6\n",
    "\n",
    "sourceWidth=600e-9 #cercare bene la misura sul righello\n",
    "sourcePos=-l/4 #almeno iniettiamo le waves nel bulk, possiamo modificare\n",
    "\n",
    "\n",
    "# Mesh cell [m]\n",
    "cx = 10e-9   #50e-9\n",
    "cy = w  #50e-9\n",
    "cz = t\n",
    "\n",
    "cell = (cx, cy, cz)\n",
    "\n",
    "# Zeeman field\n",
    "Hx = 0 * Oe # 550 Oe = 55mT as in the paper\n",
    "Hy = 0\n",
    "Hz = 0\n",
    "H_DC = (Hx, Hy, Hz)\n",
    "\n",
    "# Amplitude of RF exiting field\n",
    "H_RF_val = 10 * Oe\n",
    "\n",
    "# Initial magnetization\n",
    "m0 = (1, 0, 0)   # Initial reduced magnetization\n"
   ]
  },
  {
   "cell_type": "code",
   "execution_count": 5,
   "metadata": {},
   "outputs": [],
   "source": [
    "#edit system name to match what you want to see\n",
    "P=1\n",
    "T = 10e-9 #100e-9\n",
    "f_MAX = 5e9 \n",
    "\n",
    "sysName=f\"P{P}_{int(T*1e9)}ns_{int(f_MAX*1e-9)}GHz\""
   ]
  },
  {
   "cell_type": "code",
   "execution_count": 6,
   "metadata": {},
   "outputs": [],
   "source": [
    "#do edit this to match the system\n",
    "f_Nyquist = 2*f_MAX\n",
    "n_Nyquist = T*f_Nyquist\n",
    "n_oversampling = 50\n",
    "sampling = int(n_Nyquist+n_oversampling)\n"
   ]
  },
  {
   "cell_type": "code",
   "execution_count": 7,
   "metadata": {},
   "outputs": [
    {
     "ename": "OSError",
     "evalue": "Directory self.path='./P1_10ns_5GHz' cannot be found.",
     "output_type": "error",
     "traceback": [
      "\u001b[0;31m---------------------------------------------------------------------------\u001b[0m",
      "\u001b[0;31mOSError\u001b[0m                                   Traceback (most recent call last)",
      "Cell \u001b[0;32mIn[7], line 1\u001b[0m\n\u001b[0;32m----> 1\u001b[0m equilibriumStateData\u001b[38;5;241m=\u001b[39m\u001b[43mmd\u001b[49m\u001b[38;5;241;43m.\u001b[39;49m\u001b[43mData\u001b[49m\u001b[43m(\u001b[49m\u001b[43msysName\u001b[49m\u001b[43m)\u001b[49m[\u001b[38;5;241m0\u001b[39m] \n\u001b[1;32m      2\u001b[0m timeSimData\u001b[38;5;241m=\u001b[39mmd\u001b[38;5;241m.\u001b[39mData(sysName)[\u001b[38;5;241m-\u001b[39m\u001b[38;5;241m1\u001b[39m]\n",
      "File \u001b[0;32m~/miniconda3/envs/ubermag/lib/python3.10/site-packages/micromagneticdata/data.py:54\u001b[0m, in \u001b[0;36mData.__init__\u001b[0;34m(self, name, dirname)\u001b[0m\n\u001b[1;32m     52\u001b[0m \u001b[38;5;28;01mif\u001b[39;00m \u001b[38;5;129;01mnot\u001b[39;00m os\u001b[38;5;241m.\u001b[39mpath\u001b[38;5;241m.\u001b[39mexists(\u001b[38;5;28mself\u001b[39m\u001b[38;5;241m.\u001b[39mpath):\n\u001b[1;32m     53\u001b[0m     msg \u001b[38;5;241m=\u001b[39m \u001b[38;5;124mf\u001b[39m\u001b[38;5;124m\"\u001b[39m\u001b[38;5;124mDirectory \u001b[39m\u001b[38;5;132;01m{\u001b[39;00m\u001b[38;5;28mself\u001b[39m\u001b[38;5;241m.\u001b[39mpath\u001b[38;5;132;01m=}\u001b[39;00m\u001b[38;5;124m cannot be found.\u001b[39m\u001b[38;5;124m\"\u001b[39m\n\u001b[0;32m---> 54\u001b[0m     \u001b[38;5;28;01mraise\u001b[39;00m \u001b[38;5;167;01mIOError\u001b[39;00m(msg)\n",
      "\u001b[0;31mOSError\u001b[0m: Directory self.path='./P1_10ns_5GHz' cannot be found."
     ]
    }
   ],
   "source": [
    "equilibriumStateData=md.Data(sysName)[0] \n",
    "timeSimData=md.Data(sysName)[-1]"
   ]
  },
  {
   "cell_type": "code",
   "execution_count": null,
   "metadata": {},
   "outputs": [],
   "source": [
    "#check system state before injection\n",
    "fig,ax =plt.subplots(figsize=(25,10))\n",
    "\n",
    "plt.title('$\\hat m_x$ time='+str((sampling-1)*t_0))\n",
    "equilibriumStateData.x.sel('z').mpl.scalar(ax=ax,vmin=-1000,vmax=1000,cmap='seismic')\n",
    "equilibriumStateData.sel('z').resample((20,10)).mpl.vector(ax=ax,headwidth=3,scale=2e7)\n",
    "\n",
    "fig,ax =plt.subplots(figsize=(25,10))\n",
    "plt.title('$\\hat m_y$ time='+str((sampling-1)*t_0))\n",
    "equilibriumStateData.y.sel('z').mpl.scalar(ax=ax,vmin=-100,vmax=100,cmap='seismic')\n",
    "equilibriumStateData.sel('z').resample((20,10)).mpl.vector(ax=ax,headwidth=3,scale=2e7)\n",
    "\n",
    "fig,ax =plt.subplots(figsize=(25,10))\n",
    "plt.title('$\\hat m_z$ time='+str((sampling-1)*t_0))\n",
    "equilibriumStateData.z.sel('z').mpl.scalar(ax=ax,vmin=-10,vmax=10,cmap='seismic')\n",
    "equilibriumStateData.sel('z').resample((20,10)).mpl.vector(ax=ax,headwidth=3,scale=2e7)\n",
    "\n",
    "plt.show()"
   ]
  },
  {
   "cell_type": "code",
   "execution_count": null,
   "metadata": {},
   "outputs": [],
   "source": []
  }
 ],
 "metadata": {
  "kernelspec": {
   "display_name": "ubermag",
   "language": "python",
   "name": "python3"
  },
  "language_info": {
   "codemirror_mode": {
    "name": "ipython",
    "version": 3
   },
   "file_extension": ".py",
   "mimetype": "text/x-python",
   "name": "python",
   "nbconvert_exporter": "python",
   "pygments_lexer": "ipython3",
   "version": "3.10.13"
  }
 },
 "nbformat": 4,
 "nbformat_minor": 2
}
