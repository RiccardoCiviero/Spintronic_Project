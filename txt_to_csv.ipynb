{
 "cells": [
  {
   "cell_type": "markdown",
   "metadata": {},
   "source": [
    "## Do not edit, just constants and useful function definition "
   ]
  },
  {
   "cell_type": "code",
   "execution_count": 1,
   "metadata": {},
   "outputs": [],
   "source": [
    "\n",
    "import oommfc as oc\n",
    "import discretisedfield as df\n",
    "import micromagneticmodel as mm\n",
    "import micromagneticdata as md\n",
    "import numpy as np\n",
    "import matplotlib.pyplot as plt\n",
    "import matplotlib.ticker as ticker\n",
    "import pandas as pd\n",
    "import matplotlib.colors as colors\n",
    "\n",
    "# Conversion factors\n",
    "Oe = 1000/(4*np.pi)     # conversion Oe->A/m 79.577471/ 1 mT->10 Oe\n",
    "\n",
    "# magnetic parametes\n",
    "alpha_YIG = 1.75e-4    # Gilbert damping (-)\n",
    "\n",
    "Ms_YIG = 140.7e3           # Saturation magnetisation (A/m). \n",
    "\n",
    "A_YIG = 4.22e-12           # Exchange stiffness (J/m)\n",
    "\n",
    "l_ex = (2*A_YIG/(mm.consts.mu0*Ms_YIG**2)) # Exchange length (m)\n",
    "# Geometry [m]\n",
    "l = 60e-6\n",
    "w = 500e-9\n",
    "t = 50e-9\n",
    "\n",
    "\n",
    "# self absorbing boundary condition\n",
    "band = 1e-6\n",
    "\n",
    "sourceWidth=600e-9 #cercare bene la misura sul righello\n",
    "sourcePos=-l/4 #almeno iniettiamo le waves nel bulk, possiamo modificare\n",
    "\n",
    "\n",
    "# Mesh cell [m]\n",
    "cx = 10e-9   #50e-9\n",
    "cy = w  #50e-9\n",
    "cz = t\n",
    "\n",
    "cell = (cx, cy, cz)\n",
    "\n",
    "# Zeeman field\n",
    "Hx = 0 * Oe # 550 Oe = 55mT as in the paper\n",
    "Hy = 0\n",
    "Hz = 0\n",
    "H_DC = (Hx, Hy, Hz)\n",
    "\n",
    "transverseFieldSize=0.5e-6\n",
    "\n",
    "# Amplitude of RF exiting field\n",
    "H_RF_val = 10 * Oe\n",
    "\n",
    "# Initial magnetization\n",
    "m0 = (1, 0, 0)   # Initial reduced magnetization\n"
   ]
  },
  {
   "cell_type": "markdown",
   "metadata": {},
   "source": [
    "## Edit from here on"
   ]
  },
  {
   "cell_type": "code",
   "execution_count": 2,
   "metadata": {},
   "outputs": [],
   "source": [
    "f_MAX = 4e9\n",
    "f_MAX_list=[3.2e9, 3.5e9, 3.8e9, 4e9]\n",
    "\n",
    "Hy_list = [0, 50, 250, 550, 1100, 2200]\n",
    "Hy_list = [Hy * Oe for Hy in Hy_list]\n",
    "\n",
    "T = 100e-9"
   ]
  },
  {
   "cell_type": "code",
   "execution_count": 3,
   "metadata": {},
   "outputs": [],
   "source": [
    "Ty1=[]\n",
    "Ty2=[]\n",
    "Tz1=[]\n",
    "Tz2=[]\n",
    "\n",
    "def getTramissions(baseline):\n",
    "    data=md.Data(sysName) #this contains all the drives up to now. [-1] means the last drive. Check the folder \"Py_disk_FMR\"\n",
    "    array=data[-1].to_xarray()\n",
    "    mz1_left=array[:, int((3/8*l)/cx), int(w/2/cy), 0, 2]\n",
    "    my1_left=array[:, int((3/8*l)/cx), int(w/2/cy), 0, 1]\n",
    "    mz1_right=array[:, int((5/8*l)/cx), int(w/2/cy), 0, 2]\n",
    "    my1_right=array[:, int((5/8*l)/cx), int(w/2/cy), 0, 1]\n",
    "    T1z=np.max(mz1_right)**2/np.max(mz1_left)**2\n",
    "    T1y=np.max(my1_right)**2/np.max(my1_left)**2\n",
    "    my_BL, mz_BL=baseline\n",
    "    T2z=np.max(mz1_right)**2/mz_BL**2\n",
    "    T2y=np.max(my1_right)**2/my_BL**2\n",
    "    return T1z, T1y, T2z, T2y   "
   ]
  },
  {
   "cell_type": "code",
   "execution_count": 4,
   "metadata": {},
   "outputs": [],
   "source": [
    "with open(f\"./Transmissions.csv\",'a') as f:\n",
    "    f.write(f\"Transverse field,Frequency,T1z,T1y,T2z,T2y\\n\")\n",
    "\n",
    "for freq in f_MAX_list:    \n",
    "    for Hy_t in Hy_list:\n",
    "        \n",
    "        sysName=f\"P3_{int(T*1e9)}ns_{int(freq*1e-6)}kHz_{int(Hy_t/Oe)}Oe\"    \n",
    "\n",
    "        if Hy_t==0:\n",
    "            data=md.Data(sysName) #this contains all the drives up to now. [-1] means the last drive. Check the folder \"Py_disk_FMR\"\n",
    "            array=data[-1].to_xarray()\n",
    "            mz_BL=np.max(array[:, int((3/8*l)/cx), int(w/2/cy), 0, 2])\n",
    "            my_BL=np.max(array[:, int((3/8*l)/cx), int(w/2/cy), 0, 1])\n",
    "\n",
    "        a,b,c,d=getTramissions((my_BL,mz_BL))\n",
    "        a = float(a)\n",
    "        b = float(b)\n",
    "        c = float(c)\n",
    "        d = float(d)\n",
    "\n",
    "\n",
    "        with open(f\"./Transmissions.csv\",'a') as f:\n",
    "            f.write(f\"{Hy_t},{freq},{a},{b},{c},{d}\\n\")\n",
    "            # f.write(f\"Transverse field=:{Hy_t}\\n\")\n",
    "            # f.write(f\"frequency={freq}\\n\")\n",
    "            # f.write(f\"T1z={a}\\n\")\n",
    "            # f.write(f\"T1y={b}\\n\")\n",
    "            # f.write(f\"T2z={c}\\n\")\n",
    "            # f.write(f\"T2y={d}\\n\")\n",
    "            # f.write(\"\\n\\n\")\n",
    "            "
   ]
  }
 ],
 "metadata": {
  "kernelspec": {
   "display_name": "ubermag",
   "language": "python",
   "name": "python3"
  },
  "language_info": {
   "codemirror_mode": {
    "name": "ipython",
    "version": 3
   },
   "file_extension": ".py",
   "mimetype": "text/x-python",
   "name": "python",
   "nbconvert_exporter": "python",
   "pygments_lexer": "ipython3",
   "version": "3.10.13"
  }
 },
 "nbformat": 4,
 "nbformat_minor": 2
}
